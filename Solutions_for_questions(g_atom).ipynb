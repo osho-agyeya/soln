{
 "cells": [
  {
   "cell_type": "markdown",
   "metadata": {},
   "source": [
    "# Osho Agyeya : oshoagyeya123@gmail.com"
   ]
  },
  {
   "cell_type": "markdown",
   "metadata": {},
   "source": [
    "# Olympics Dataset - Case Study\n",
    "=====================================================\n",
    "\n",
    "Load the olympics dataset (olympics.csv), which was derrived from the Wikipedia entry on All Time Olympic Games Medals.\n",
    "You can use whichever Python Libraries required."
   ]
  },
  {
   "cell_type": "code",
   "execution_count": 216,
   "metadata": {
    "collapsed": true
   },
   "outputs": [],
   "source": [
    "import pandas as pd\n",
    "import numpy as np\n",
    "from sklearn.cluster import KMeans\n",
    "import matplotlib.pyplot as plt\n",
    "import seaborn as sns; sns.set()  # for plot styling\n",
    "from mpl_toolkits import mplot3d"
   ]
  },
  {
   "cell_type": "markdown",
   "metadata": {},
   "source": [
    "## Question - 1:\n",
    "\n",
    "Create a dataframe with following data cleanup to make this file redable.\n",
    "\n",
    "Create a function load_data to read CSV file and convert CSV data to dataframe.\n",
    "Skip first row\n",
    "Rename column containing 01, 02 and 03 to Gold, Silver and Bronze\n",
    "Split country name and country code and add country name as data frame index\n",
    "Remove extra unnecessary characters from country name.\n",
    "Drop the column Totals\n",
    "Return dataframe."
   ]
  },
  {
   "cell_type": "code",
   "execution_count": 136,
   "metadata": {
    "collapsed": true
   },
   "outputs": [],
   "source": [
    "def load_data():\n",
    "    df=pd.read_csv('olympics.csv',skiprows=1)\n",
    "    df=df.rename(columns={\"01 !\":\"s_gold\",\"02 !\":\"s_silver\",\"03 !\":\"s_bronze\",\n",
    "                         \"01 !.1\":\"w_gold\",\"02 !.1\":\"w_silver\",\"03 !.1\":\"w_bronze\",\n",
    "                         \"01 !.2\":\"t_gold\",\"02 !.2\":\"t_silver\",\"03 !.2\":\"t_bronze\",\n",
    "                         \"Total\":\"t_summer\",\"Total.1\":\"t_winter\",\n",
    "                         })\n",
    "    df.columns.values[0]=\"country full\"\n",
    "    df[\"country\"]=df[\"country full\"].str.split(\"(\").str.get(0)\n",
    "    df=df.drop([\"Combined total\"],axis=1)\n",
    "    return df   "
   ]
  },
  {
   "cell_type": "markdown",
   "metadata": {},
   "source": [
    "## Question - 2:\n",
    "Write a function to get first country details from dataframe we got from load_data function.\n",
    "\n",
    "Create a function first_country.\n",
    "Return results for first country."
   ]
  },
  {
   "cell_type": "code",
   "execution_count": 137,
   "metadata": {
    "collapsed": true
   },
   "outputs": [],
   "source": [
    "def first_country(df):\n",
    "    first=df.iloc[0]\n",
    "    return first"
   ]
  },
  {
   "cell_type": "markdown",
   "metadata": {},
   "source": [
    "## Question - 3:\n",
    "Which country has won the most gold medals in summer games?\n",
    "\n",
    "Create a function gold_medal to get name of country who won most gold medals.\n",
    "Return country name"
   ]
  },
  {
   "cell_type": "code",
   "execution_count": 139,
   "metadata": {
    "collapsed": true
   },
   "outputs": [],
   "source": [
    "def gold_medal(df):\n",
    "    max_gold=df[df[\"s_gold\"]==df[\"s_gold\"].max()]\n",
    "    return (max_gold[\"country\"])"
   ]
  },
  {
   "cell_type": "markdown",
   "metadata": {},
   "source": [
    "## Question - 4:\n",
    "Which country had the biggest difference between their summer and winter gold medal counts?\n",
    "\n",
    "Create a function biggest_difference_in_gold_medal to get name of country who has biggest difference between their summer and winter gold medal counts.\n",
    "Return country name."
   ]
  },
  {
   "cell_type": "code",
   "execution_count": 163,
   "metadata": {
    "collapsed": true
   },
   "outputs": [],
   "source": [
    "def biggest_difference_in_gold_medal(df):\n",
    "    dg=abs(df[\"s_gold\"]-df[\"w_gold\"])\n",
    "    mdg=max(dg)\n",
    "    bd=df[abs(df[\"s_gold\"]-df[\"w_gold\"])==mdg]\n",
    "    return bd[\"country\"]"
   ]
  },
  {
   "cell_type": "markdown",
   "metadata": {},
   "source": [
    "## Question - 5:\n",
    "Write a function to update the dataframe to include a new column called \"Points\" for Games which is a weighted value where each gold medal counts for 3 points, silver medals for 2 points, and bronze medals for 1 point. The function should return only the column (a Series object) which you created.\n",
    "\n",
    "Create a function get_points.\n",
    "Return dataframe with points column and index."
   ]
  },
  {
   "cell_type": "code",
   "execution_count": 174,
   "metadata": {
    "collapsed": true
   },
   "outputs": [],
   "source": [
    "def get_points(df):\n",
    "    Points=(df[\"s_gold\"]+df[\"w_gold\"])*3+(df[\"s_silver\"]+df[\"w_silver\"])*2+(df[\"s_bronze\"]+df[\"w_bronze\"])*1\n",
    "    return Points"
   ]
  },
  {
   "cell_type": "markdown",
   "metadata": {},
   "source": [
    "## Question - 6\n",
    "Write a function to perform k-means clustering for the given dataset.\n",
    "\n",
    "Create a fucntion k_means()\n",
    "Return\n",
    "Optimum value of k\n",
    "Cluster centers"
   ]
  },
  {
   "cell_type": "code",
   "execution_count": 238,
   "metadata": {
    "collapsed": true
   },
   "outputs": [],
   "source": [
    "def k_means(df):\n",
    "    #to do k means clustering\n",
    "    x1=np.array(df[\"t_summer\"])\n",
    "    x2=np.array(df[\"t_winter\"])\n",
    "    x = np.vstack((x1, x2)).T\n",
    "    kmeans=KMeans(init=\"k-means++\").fit(x)\n",
    "    l=kmeans.labels_\n",
    "    k=set(l)\n",
    "    c=kmeans.cluster_centers_\n",
    "    return k,c"
   ]
  },
  {
   "cell_type": "code",
   "execution_count": 241,
   "metadata": {},
   "outputs": [
    {
     "name": "stdout",
     "output_type": "stream",
     "text": [
      "----------------------------------------------------\n",
      "Ans for ques 2\n",
      "\n",
      "country full    Afghanistan (AFG)\n",
      "# Summer                       13\n",
      "s_gold                          0\n",
      "s_silver                        0\n",
      "s_bronze                        2\n",
      "t_summer                        2\n",
      "# Winter                        0\n",
      "w_gold                          0\n",
      "w_silver                        0\n",
      "w_bronze                        0\n",
      "t_winter                        0\n",
      "# Games                        13\n",
      "t_gold                          0\n",
      "t_silver                        0\n",
      "t_bronze                        2\n",
      "country              Afghanistan \n",
      "Name: 0, dtype: object\n",
      "----------------------------------------------------\n",
      "Ans for ques 3\n",
      "\n",
      "135    United States \n",
      "Name: country, dtype: object\n",
      "----------------------------------------------------\n",
      "Ans for ques 4\n",
      "\n",
      "135    United States \n",
      "Name: country, dtype: object\n",
      "----------------------------------------------------\n",
      "Ans for ques 5\n",
      "\n",
      "              country full  # Summer  s_gold  s_silver  s_bronze  t_summer  \\\n",
      "0        Afghanistan (AFG)        13       0         0         2         2   \n",
      "1            Algeria (ALG)        12       5         2         8        15   \n",
      "2          Argentina (ARG)        23      18        24        28        70   \n",
      "3            Armenia (ARM)         5       1         2         9        12   \n",
      "4  Australasia (ANZ) [ANZ]         2       3         4         5        12   \n",
      "\n",
      "   # Winter  w_gold  w_silver  w_bronze  t_winter  # Games  t_gold  t_silver  \\\n",
      "0         0       0         0         0         0       13       0         0   \n",
      "1         3       0         0         0         0       15       5         2   \n",
      "2        18       0         0         0         0       41      18        24   \n",
      "3         6       0         0         0         0       11       1         2   \n",
      "4         0       0         0         0         0        2       3         4   \n",
      "\n",
      "   t_bronze       country  Points  \n",
      "0         2  Afghanistan        2  \n",
      "1         8      Algeria       27  \n",
      "2        28    Argentina      130  \n",
      "3         9      Armenia       16  \n",
      "4         5  Australasia       22  \n",
      "----------------------------------------------------\n",
      "Ans for ques 6\n",
      "\n",
      "Value of k is {0, 1, 2, 3, 4, 5, 6, 7}\n",
      "Cluster centroids co-ordinates are\n",
      " [[  4.69333333e+02   9.07777778e+01]\n",
      " [  9.77450980e+00   8.82352941e-01]\n",
      " [  2.39900000e+03   2.82000000e+02]\n",
      " [  2.47400000e+02   6.98000000e+01]\n",
      " [  1.01000000e+03   1.94000000e+02]\n",
      " [  1.01315789e+02   5.36842105e+00]\n",
      " [  1.17000000e+02   2.73500000e+02]\n",
      " [  7.25500000e+02   6.75000000e+01]]\n",
      "----------------------------------------------------\n"
     ]
    }
   ],
   "source": [
    "#main function here\n",
    "if __name__==\"__main__\":\n",
    "    df=load_data()\n",
    "    df=df[:-1]\n",
    "    df.reset_index()\n",
    "    print(\"----------------------------------------------------\")\n",
    "    print(\"Ans for ques 2\\n\")\n",
    "    first=first_country(df)\n",
    "    print(first)\n",
    "    print(\"----------------------------------------------------\")\n",
    "    print(\"Ans for ques 3\\n\")\n",
    "    gold_max=gold_medal(df)\n",
    "    print(gold_max)\n",
    "    print(\"----------------------------------------------------\")\n",
    "    print(\"Ans for ques 4\\n\")\n",
    "    bdgm=biggest_difference_in_gold_medal(df)\n",
    "    print(bdgm)\n",
    "    print(\"----------------------------------------------------\")\n",
    "    print(\"Ans for ques 5\\n\")\n",
    "    Points=get_points(df)\n",
    "    df[\"Points\"]=Points\n",
    "    print(df.head())\n",
    "    print(\"----------------------------------------------------\")\n",
    "    print(\"Ans for ques 6\\n\")\n",
    "    k,c=k_means(df)\n",
    "    print(\"Value of k is\",k)\n",
    "    print(\"Cluster centroids co-ordinates are\\n\",c)\n",
    "    print(\"----------------------------------------------------\")"
   ]
  },
  {
   "cell_type": "markdown",
   "metadata": {},
   "source": [
    "# Complex number class\n",
    "=============================================="
   ]
  },
  {
   "cell_type": "code",
   "execution_count": 1,
   "metadata": {},
   "outputs": [
    {
     "name": "stdout",
     "output_type": "stream",
     "text": [
      "4-2i\n",
      "-2+6i\n",
      "11+2i\n",
      "-0.2+0.4i\n",
      "2.23606797749979\n",
      "1\n",
      "2\n",
      "1.1071487177940904\n",
      "1-2i\n"
     ]
    }
   ],
   "source": [
    "from Complex import complex_number as c #class has been implemented in Complex.py\n",
    "\n",
    "a=c(1,2)\n",
    "b=c(3,-4)\n",
    "\n",
    "print(a+b)\n",
    "print(a-b)\n",
    "print(a*b)\n",
    "print(a/b)\n",
    "print(abs(a))\n",
    "print(a.real())\n",
    "print(a.imag())\n",
    "print(a.argument())  #in radians\n",
    "print(a.conjugate())"
   ]
  }
 ],
 "metadata": {
  "kernelspec": {
   "display_name": "Python 3",
   "language": "python",
   "name": "python3"
  },
  "language_info": {
   "codemirror_mode": {
    "name": "ipython",
    "version": 3
   },
   "file_extension": ".py",
   "mimetype": "text/x-python",
   "name": "python",
   "nbconvert_exporter": "python",
   "pygments_lexer": "ipython3",
   "version": "3.6.3"
  }
 },
 "nbformat": 4,
 "nbformat_minor": 2
}
